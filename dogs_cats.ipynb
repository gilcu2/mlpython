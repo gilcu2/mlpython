{
  "nbformat": 4,
  "nbformat_minor": 0,
  "metadata": {
    "colab": {
      "name": "dogs-cats",
      "provenance": [],
      "include_colab_link": true
    },
    "kernelspec": {
      "name": "python3",
      "display_name": "Python 3"
    }
  },
  "cells": [
    {
      "cell_type": "markdown",
      "metadata": {
        "id": "view-in-github",
        "colab_type": "text"
      },
      "source": [
        "<a href=\"https://colab.research.google.com/github/gilcu2/mlpython/blob/master/dogs_cats.ipynb\" target=\"_parent\"><img src=\"https://colab.research.google.com/assets/colab-badge.svg\" alt=\"Open In Colab\"/></a>"
      ]
    },
    {
      "cell_type": "code",
      "metadata": {
        "id": "kdGsKEXtYx5Z",
        "colab_type": "code",
        "outputId": "9355b2c7-72f3-436e-8e2e-822caabbd540",
        "colab": {
          "base_uri": "https://localhost:8080/",
          "height": 122
        }
      },
      "source": [
        "from google.colab import drive\n",
        "\n",
        "drive.mount('/content/gdrive')"
      ],
      "execution_count": 1,
      "outputs": [
        {
          "output_type": "stream",
          "text": [
            "Go to this URL in a browser: https://accounts.google.com/o/oauth2/auth?client_id=947318989803-6bn6qk8qdgf4n4g3pfee6491hc0brc4i.apps.googleusercontent.com&redirect_uri=urn%3aietf%3awg%3aoauth%3a2.0%3aoob&response_type=code&scope=email%20https%3a%2f%2fwww.googleapis.com%2fauth%2fdocs.test%20https%3a%2f%2fwww.googleapis.com%2fauth%2fdrive%20https%3a%2f%2fwww.googleapis.com%2fauth%2fdrive.photos.readonly%20https%3a%2f%2fwww.googleapis.com%2fauth%2fpeopleapi.readonly\n",
            "\n",
            "Enter your authorization code:\n",
            "··········\n",
            "Mounted at /content/gdrive\n"
          ],
          "name": "stdout"
        }
      ]
    },
    {
      "cell_type": "code",
      "metadata": {
        "id": "eFNEye_pZiiN",
        "colab_type": "code",
        "outputId": "d61818be-a666-4a41-dd06-1513f9e5d45b",
        "colab": {
          "base_uri": "https://localhost:8080/",
          "height": 34
        }
      },
      "source": [
        "!ls '/content/gdrive/My Drive/data'/dogs-vs-cats"
      ],
      "execution_count": 24,
      "outputs": [
        {
          "output_type": "stream",
          "text": [
            "sampleSubmission.csv  test1.zip  train.zip\n"
          ],
          "name": "stdout"
        }
      ]
    },
    {
      "cell_type": "code",
      "metadata": {
        "id": "9rwzyQei8xPv",
        "colab_type": "code",
        "colab": {}
      },
      "source": [
        "!mkdir data"
      ],
      "execution_count": 0,
      "outputs": []
    },
    {
      "cell_type": "code",
      "metadata": {
        "id": "Hwo5vgHIl4Uj",
        "colab_type": "code",
        "colab": {}
      },
      "source": [
        "!mkdir data/dogs-vs-cats\n",
        "!mkdir data/dogs-vs-cats-small"
      ],
      "execution_count": 0,
      "outputs": []
    },
    {
      "cell_type": "code",
      "metadata": {
        "id": "1vhVwFJGg2ca",
        "colab_type": "code",
        "colab": {}
      },
      "source": [
        "!cp  '/content/gdrive/My Drive/data/dogs-vs-cats'/*.zip data/dogs-vs-cats"
      ],
      "execution_count": 0,
      "outputs": []
    },
    {
      "cell_type": "code",
      "metadata": {
        "id": "0_PJRy9WiKY6",
        "colab_type": "code",
        "colab": {}
      },
      "source": [
        "!unzip -q data/dogs-vs-cats/train.zip -d data/dogs-vs-cats"
      ],
      "execution_count": 0,
      "outputs": []
    },
    {
      "cell_type": "code",
      "metadata": {
        "id": "mR5unzWM9K6D",
        "colab_type": "code",
        "colab": {
          "base_uri": "https://localhost:8080/",
          "height": 34
        },
        "outputId": "87d2efe3-0f26-4cfb-813e-527cdf1d3e3d"
      },
      "source": [
        "!ls data/dogs-vs-cats"
      ],
      "execution_count": 7,
      "outputs": [
        {
          "output_type": "stream",
          "text": [
            "test1.zip  train  train.zip\n"
          ],
          "name": "stdout"
        }
      ]
    },
    {
      "cell_type": "code",
      "metadata": {
        "id": "z3nBHPx8iqtu",
        "colab_type": "code",
        "colab": {}
      },
      "source": [
        "import os, shutil\n",
        "original_dataset_dir = 'data/dogs-vs-cats/train'\n",
        "base_dir = 'data/dogs-vs-cats-small'"
      ],
      "execution_count": 0,
      "outputs": []
    },
    {
      "cell_type": "code",
      "metadata": {
        "id": "7afrwhz7mdBv",
        "colab_type": "code",
        "colab": {}
      },
      "source": [
        "train_dir = os.path.join(base_dir, 'train')\n",
        "os.mkdir(train_dir)\n",
        "validation_dir = os.path.join(base_dir, 'validation')\n",
        "os.mkdir(validation_dir)\n",
        "test_dir = os.path.join(base_dir, 'test')\n",
        "os.mkdir(test_dir)"
      ],
      "execution_count": 0,
      "outputs": []
    },
    {
      "cell_type": "code",
      "metadata": {
        "id": "oEod7zxxnPsC",
        "colab_type": "code",
        "colab": {}
      },
      "source": [
        "train_cats_dir = os.path.join(train_dir, 'cats')\n",
        "os.mkdir(train_cats_dir)\n",
        "train_dogs_dir = os.path.join(train_dir, 'dogs')\n",
        "os.mkdir(train_dogs_dir)\n",
        "validation_cats_dir = os.path.join(validation_dir, 'cats')\n",
        "os.mkdir(validation_cats_dir)\n",
        "validation_dogs_dir = os.path.join(validation_dir, 'dogs')\n",
        "os.mkdir(validation_dogs_dir)\n",
        "test_cats_dir = os.path.join(test_dir, 'cats')\n",
        "os.mkdir(test_cats_dir)\n",
        "test_dogs_dir = os.path.join(test_dir, 'dogs')\n",
        "os.mkdir(test_dogs_dir)"
      ],
      "execution_count": 0,
      "outputs": []
    },
    {
      "cell_type": "code",
      "metadata": {
        "id": "W_jdkDAknllX",
        "colab_type": "code",
        "colab": {}
      },
      "source": [
        "fnames = ['cat.{}.jpg'.format(i) for i in range(1000)]\n",
        "for fname in fnames:\n",
        "  src = os.path.join(original_dataset_dir, fname)\n",
        "  dst = os.path.join(train_cats_dir, fname)\n",
        "  shutil.copyfile(src, dst)"
      ],
      "execution_count": 0,
      "outputs": []
    },
    {
      "cell_type": "code",
      "metadata": {
        "id": "0crdBvVYhY4h",
        "colab_type": "code",
        "colab": {}
      },
      "source": [
        "!ls data/dogs-vs-cats-small/train/cats"
      ],
      "execution_count": 0,
      "outputs": []
    },
    {
      "cell_type": "code",
      "metadata": {
        "id": "bI0FTRwWoOXO",
        "colab_type": "code",
        "colab": {}
      },
      "source": [
        "fnames = ['cat.{}.jpg'.format(i) for i in range(1000, 1500)]\n",
        "for fname in fnames:\n",
        "  src = os.path.join(original_dataset_dir, fname)\n",
        "  dst = os.path.join(validation_cats_dir, fname)\n",
        "  shutil.copyfile(src, dst)\n",
        "\n",
        "fnames = ['cat.{}.jpg'.format(i) for i in range(1500, 2000)]\n",
        "for fname in fnames:\n",
        "  src = os.path.join(original_dataset_dir, fname)\n",
        "  dst = os.path.join(test_cats_dir, fname)\n",
        "  shutil.copyfile(src, dst)"
      ],
      "execution_count": 0,
      "outputs": []
    },
    {
      "cell_type": "code",
      "metadata": {
        "id": "2a9Vn-_koayi",
        "colab_type": "code",
        "colab": {}
      },
      "source": [
        "fnames = ['dog.{}.jpg'.format(i) for i in range(1000)]\n",
        "for fname in fnames:\n",
        "  src = os.path.join(original_dataset_dir, fname)\n",
        "  dst = os.path.join(train_dogs_dir, fname)\n",
        "  shutil.copyfile(src, dst)\n",
        "\n",
        "fnames = ['dog.{}.jpg'.format(i) for i in range(1000, 1500)]\n",
        "for fname in fnames:\n",
        "  src = os.path.join(original_dataset_dir, fname)\n",
        "  dst = os.path.join(validation_dogs_dir, fname)\n",
        "  shutil.copyfile(src, dst)\n",
        "\n",
        "fnames = ['dog.{}.jpg'.format(i) for i in range(1500, 2000)]\n",
        "for fname in fnames:\n",
        "  src = os.path.join(original_dataset_dir, fname)\n",
        "  dst = os.path.join(test_dogs_dir, fname)\n",
        "  shutil.copyfile(src, dst)  "
      ],
      "execution_count": 0,
      "outputs": []
    },
    {
      "cell_type": "code",
      "metadata": {
        "id": "7lrVbjwIovMz",
        "colab_type": "code",
        "outputId": "a1ee3e3a-8891-4f23-87f2-a84759fe86af",
        "colab": {
          "base_uri": "https://localhost:8080/",
          "height": 119
        }
      },
      "source": [
        "print('total training cat images:', len(os.listdir(train_cats_dir)))\n",
        "print('total training dog images:', len(os.listdir(train_dogs_dir)))\n",
        "print('total validation cat images:', len(os.listdir(validation_cats_dir)))\n",
        "print('total validation dog images:', len(os.listdir(validation_dogs_dir)))\n",
        "print('total test cat images:', len(os.listdir(test_cats_dir)))\n",
        "print('total test dog images:', len(os.listdir(test_dogs_dir)))"
      ],
      "execution_count": 16,
      "outputs": [
        {
          "output_type": "stream",
          "text": [
            "total training cat images: 1000\n",
            "total training dog images: 1000\n",
            "total validation cat images: 500\n",
            "total validation dog images: 500\n",
            "total test cat images: 500\n",
            "total test dog images: 500\n"
          ],
          "name": "stdout"
        }
      ]
    },
    {
      "cell_type": "code",
      "metadata": {
        "id": "wO20BB-Hr1hR",
        "colab_type": "code",
        "outputId": "326e101f-b9d0-46c9-c718-2bf6b142ada6",
        "colab": {
          "base_uri": "https://localhost:8080/",
          "height": 726
        }
      },
      "source": [
        "from keras import layers\n",
        "from keras import models\n",
        "model = models.Sequential()\n",
        "model.add(layers.Conv2D(32, (3, 3), activation='relu',\n",
        "input_shape=(150, 150, 3)))\n",
        "model.add(layers.MaxPooling2D((2, 2)))\n",
        "model.add(layers.Conv2D(64, (3, 3), activation='relu'))\n",
        "model.add(layers.MaxPooling2D((2, 2)))\n",
        "model.add(layers.Conv2D(128, (3, 3), activation='relu'))\n",
        "model.add(layers.MaxPooling2D((2, 2)))\n",
        "model.add(layers.Conv2D(128, (3, 3), activation='relu'))\n",
        "model.add(layers.MaxPooling2D((2, 2)))\n",
        "model.add(layers.Flatten())\n",
        "model.add(layers.Dense(512, activation='relu'))\n",
        "model.add(layers.Dense(1, activation='sigmoid'))\n",
        "model.summary()"
      ],
      "execution_count": 17,
      "outputs": [
        {
          "output_type": "stream",
          "text": [
            "Using TensorFlow backend.\n"
          ],
          "name": "stderr"
        },
        {
          "output_type": "display_data",
          "data": {
            "text/html": [
              "<p style=\"color: red;\">\n",
              "The default version of TensorFlow in Colab will soon switch to TensorFlow 2.x.<br>\n",
              "We recommend you <a href=\"https://www.tensorflow.org/guide/migrate\" target=\"_blank\">upgrade</a> now \n",
              "or ensure your notebook will continue to use TensorFlow 1.x via the <code>%tensorflow_version 1.x</code> magic:\n",
              "<a href=\"https://colab.research.google.com/notebooks/tensorflow_version.ipynb\" target=\"_blank\">more info</a>.</p>\n"
            ],
            "text/plain": [
              "<IPython.core.display.HTML object>"
            ]
          },
          "metadata": {
            "tags": []
          }
        },
        {
          "output_type": "stream",
          "text": [
            "WARNING:tensorflow:From /usr/local/lib/python3.6/dist-packages/keras/backend/tensorflow_backend.py:66: The name tf.get_default_graph is deprecated. Please use tf.compat.v1.get_default_graph instead.\n",
            "\n",
            "WARNING:tensorflow:From /usr/local/lib/python3.6/dist-packages/keras/backend/tensorflow_backend.py:541: The name tf.placeholder is deprecated. Please use tf.compat.v1.placeholder instead.\n",
            "\n",
            "WARNING:tensorflow:From /usr/local/lib/python3.6/dist-packages/keras/backend/tensorflow_backend.py:4432: The name tf.random_uniform is deprecated. Please use tf.random.uniform instead.\n",
            "\n",
            "WARNING:tensorflow:From /usr/local/lib/python3.6/dist-packages/keras/backend/tensorflow_backend.py:4267: The name tf.nn.max_pool is deprecated. Please use tf.nn.max_pool2d instead.\n",
            "\n",
            "Model: \"sequential_1\"\n",
            "_________________________________________________________________\n",
            "Layer (type)                 Output Shape              Param #   \n",
            "=================================================================\n",
            "conv2d_1 (Conv2D)            (None, 148, 148, 32)      896       \n",
            "_________________________________________________________________\n",
            "max_pooling2d_1 (MaxPooling2 (None, 74, 74, 32)        0         \n",
            "_________________________________________________________________\n",
            "conv2d_2 (Conv2D)            (None, 72, 72, 64)        18496     \n",
            "_________________________________________________________________\n",
            "max_pooling2d_2 (MaxPooling2 (None, 36, 36, 64)        0         \n",
            "_________________________________________________________________\n",
            "conv2d_3 (Conv2D)            (None, 34, 34, 128)       73856     \n",
            "_________________________________________________________________\n",
            "max_pooling2d_3 (MaxPooling2 (None, 17, 17, 128)       0         \n",
            "_________________________________________________________________\n",
            "conv2d_4 (Conv2D)            (None, 15, 15, 128)       147584    \n",
            "_________________________________________________________________\n",
            "max_pooling2d_4 (MaxPooling2 (None, 7, 7, 128)         0         \n",
            "_________________________________________________________________\n",
            "flatten_1 (Flatten)          (None, 6272)              0         \n",
            "_________________________________________________________________\n",
            "dense_1 (Dense)              (None, 512)               3211776   \n",
            "_________________________________________________________________\n",
            "dense_2 (Dense)              (None, 1)                 513       \n",
            "=================================================================\n",
            "Total params: 3,453,121\n",
            "Trainable params: 3,453,121\n",
            "Non-trainable params: 0\n",
            "_________________________________________________________________\n"
          ],
          "name": "stdout"
        }
      ]
    },
    {
      "cell_type": "code",
      "metadata": {
        "id": "vKA857QpsdL4",
        "colab_type": "code",
        "outputId": "3f6734b0-c13e-42c6-e974-d0d825a2299f",
        "colab": {
          "base_uri": "https://localhost:8080/",
          "height": 136
        }
      },
      "source": [
        "from keras import optimizers\n",
        "\n",
        "model.compile(loss='binary_crossentropy',optimizer=optimizers.RMSprop(lr=1e-4),metrics=['acc'])"
      ],
      "execution_count": 18,
      "outputs": [
        {
          "output_type": "stream",
          "text": [
            "WARNING:tensorflow:From /usr/local/lib/python3.6/dist-packages/keras/optimizers.py:793: The name tf.train.Optimizer is deprecated. Please use tf.compat.v1.train.Optimizer instead.\n",
            "\n",
            "WARNING:tensorflow:From /usr/local/lib/python3.6/dist-packages/keras/backend/tensorflow_backend.py:3657: The name tf.log is deprecated. Please use tf.math.log instead.\n",
            "\n",
            "WARNING:tensorflow:From /usr/local/lib/python3.6/dist-packages/tensorflow_core/python/ops/nn_impl.py:183: where (from tensorflow.python.ops.array_ops) is deprecated and will be removed in a future version.\n",
            "Instructions for updating:\n",
            "Use tf.where in 2.0, which has the same broadcast rule as np.where\n"
          ],
          "name": "stdout"
        }
      ]
    },
    {
      "cell_type": "code",
      "metadata": {
        "id": "1gttHj8cszL7",
        "colab_type": "code",
        "outputId": "eb1c5247-d1f9-4b05-cda5-25b7bf298a00",
        "colab": {
          "base_uri": "https://localhost:8080/",
          "height": 51
        }
      },
      "source": [
        "from keras.preprocessing.image import ImageDataGenerator\n",
        "\n",
        "train_datagen = ImageDataGenerator(rescale=1./255)\n",
        "test_datagen = ImageDataGenerator(rescale=1./255)\n",
        "\n",
        "train_generator = train_datagen.flow_from_directory(train_dir,target_size=(150, 150),batch_size=20,class_mode='binary')\n",
        "validation_generator = test_datagen.flow_from_directory(validation_dir,target_size=(150, 150),batch_size=20,class_mode='binary')"
      ],
      "execution_count": 19,
      "outputs": [
        {
          "output_type": "stream",
          "text": [
            "Found 2000 images belonging to 2 classes.\n",
            "Found 1000 images belonging to 2 classes.\n"
          ],
          "name": "stdout"
        }
      ]
    },
    {
      "cell_type": "code",
      "metadata": {
        "id": "_E3bTZq_uzUZ",
        "colab_type": "code",
        "outputId": "36baf886-3216-4e49-89ae-e1fa36b0f861",
        "colab": {
          "base_uri": "https://localhost:8080/",
          "height": 1000
        }
      },
      "source": [
        "history = model.fit_generator(\n",
        "train_generator,\n",
        "steps_per_epoch=100,\n",
        "epochs=30,\n",
        "validation_data=validation_generator,\n",
        "validation_steps=50)"
      ],
      "execution_count": 20,
      "outputs": [
        {
          "output_type": "stream",
          "text": [
            "WARNING:tensorflow:From /usr/local/lib/python3.6/dist-packages/keras/backend/tensorflow_backend.py:1033: The name tf.assign_add is deprecated. Please use tf.compat.v1.assign_add instead.\n",
            "\n",
            "WARNING:tensorflow:From /usr/local/lib/python3.6/dist-packages/keras/backend/tensorflow_backend.py:1020: The name tf.assign is deprecated. Please use tf.compat.v1.assign instead.\n",
            "\n",
            "WARNING:tensorflow:From /usr/local/lib/python3.6/dist-packages/keras/backend/tensorflow_backend.py:3005: The name tf.Session is deprecated. Please use tf.compat.v1.Session instead.\n",
            "\n",
            "Epoch 1/30\n",
            "WARNING:tensorflow:From /usr/local/lib/python3.6/dist-packages/keras/backend/tensorflow_backend.py:190: The name tf.get_default_session is deprecated. Please use tf.compat.v1.get_default_session instead.\n",
            "\n",
            "WARNING:tensorflow:From /usr/local/lib/python3.6/dist-packages/keras/backend/tensorflow_backend.py:197: The name tf.ConfigProto is deprecated. Please use tf.compat.v1.ConfigProto instead.\n",
            "\n",
            "WARNING:tensorflow:From /usr/local/lib/python3.6/dist-packages/keras/backend/tensorflow_backend.py:207: The name tf.global_variables is deprecated. Please use tf.compat.v1.global_variables instead.\n",
            "\n",
            "WARNING:tensorflow:From /usr/local/lib/python3.6/dist-packages/keras/backend/tensorflow_backend.py:216: The name tf.is_variable_initialized is deprecated. Please use tf.compat.v1.is_variable_initialized instead.\n",
            "\n",
            "WARNING:tensorflow:From /usr/local/lib/python3.6/dist-packages/keras/backend/tensorflow_backend.py:223: The name tf.variables_initializer is deprecated. Please use tf.compat.v1.variables_initializer instead.\n",
            "\n",
            "100/100 [==============================] - 108s 1s/step - loss: 0.6902 - acc: 0.5335 - val_loss: 0.6864 - val_acc: 0.5210\n",
            "Epoch 2/30\n",
            "100/100 [==============================] - 106s 1s/step - loss: 0.6657 - acc: 0.5880 - val_loss: 0.6534 - val_acc: 0.6070\n",
            "Epoch 3/30\n",
            "100/100 [==============================] - 106s 1s/step - loss: 0.6254 - acc: 0.6635 - val_loss: 0.6728 - val_acc: 0.5790\n",
            "Epoch 4/30\n",
            "100/100 [==============================] - 108s 1s/step - loss: 0.5799 - acc: 0.7040 - val_loss: 0.6136 - val_acc: 0.6430\n",
            "Epoch 5/30\n",
            "100/100 [==============================] - 111s 1s/step - loss: 0.5432 - acc: 0.7210 - val_loss: 0.5697 - val_acc: 0.6840\n",
            "Epoch 6/30\n",
            "100/100 [==============================] - 112s 1s/step - loss: 0.5123 - acc: 0.7515 - val_loss: 0.5586 - val_acc: 0.7010\n",
            "Epoch 7/30\n",
            "100/100 [==============================] - 112s 1s/step - loss: 0.4902 - acc: 0.7570 - val_loss: 0.5816 - val_acc: 0.6920\n",
            "Epoch 8/30\n",
            "100/100 [==============================] - 111s 1s/step - loss: 0.4622 - acc: 0.7890 - val_loss: 0.5662 - val_acc: 0.7050\n",
            "Epoch 9/30\n",
            "100/100 [==============================] - 112s 1s/step - loss: 0.4387 - acc: 0.7940 - val_loss: 0.5289 - val_acc: 0.7280\n",
            "Epoch 10/30\n",
            "100/100 [==============================] - 112s 1s/step - loss: 0.4146 - acc: 0.8100 - val_loss: 0.5467 - val_acc: 0.7250\n",
            "Epoch 11/30\n",
            "100/100 [==============================] - 112s 1s/step - loss: 0.3957 - acc: 0.8250 - val_loss: 0.5279 - val_acc: 0.7340\n",
            "Epoch 12/30\n",
            "100/100 [==============================] - 112s 1s/step - loss: 0.3687 - acc: 0.8375 - val_loss: 0.5440 - val_acc: 0.7340\n",
            "Epoch 13/30\n",
            "100/100 [==============================] - 112s 1s/step - loss: 0.3435 - acc: 0.8455 - val_loss: 0.5861 - val_acc: 0.7400\n",
            "Epoch 14/30\n",
            "100/100 [==============================] - 112s 1s/step - loss: 0.3331 - acc: 0.8520 - val_loss: 0.5740 - val_acc: 0.7240\n",
            "Epoch 15/30\n",
            "100/100 [==============================] - 111s 1s/step - loss: 0.3006 - acc: 0.8715 - val_loss: 0.5960 - val_acc: 0.7270\n",
            "Epoch 16/30\n",
            "100/100 [==============================] - 114s 1s/step - loss: 0.2844 - acc: 0.8825 - val_loss: 0.5969 - val_acc: 0.7370\n",
            "Epoch 17/30\n",
            "100/100 [==============================] - 112s 1s/step - loss: 0.2669 - acc: 0.8880 - val_loss: 0.5811 - val_acc: 0.7390\n",
            "Epoch 18/30\n",
            "100/100 [==============================] - 113s 1s/step - loss: 0.2480 - acc: 0.9000 - val_loss: 0.6078 - val_acc: 0.7390\n",
            "Epoch 19/30\n",
            "100/100 [==============================] - 113s 1s/step - loss: 0.2263 - acc: 0.9120 - val_loss: 0.6069 - val_acc: 0.7330\n",
            "Epoch 20/30\n",
            "100/100 [==============================] - 112s 1s/step - loss: 0.2019 - acc: 0.9225 - val_loss: 0.6439 - val_acc: 0.7340\n",
            "Epoch 21/30\n",
            "100/100 [==============================] - 114s 1s/step - loss: 0.1805 - acc: 0.9355 - val_loss: 0.6207 - val_acc: 0.7410\n",
            "Epoch 22/30\n",
            "100/100 [==============================] - 114s 1s/step - loss: 0.1624 - acc: 0.9415 - val_loss: 1.0718 - val_acc: 0.6720\n",
            "Epoch 23/30\n",
            "100/100 [==============================] - 114s 1s/step - loss: 0.1603 - acc: 0.9410 - val_loss: 0.7007 - val_acc: 0.7330\n",
            "Epoch 24/30\n",
            "100/100 [==============================] - 114s 1s/step - loss: 0.1301 - acc: 0.9575 - val_loss: 0.7521 - val_acc: 0.7240\n",
            "Epoch 25/30\n",
            "100/100 [==============================] - 115s 1s/step - loss: 0.1214 - acc: 0.9575 - val_loss: 0.7347 - val_acc: 0.7310\n",
            "Epoch 26/30\n",
            "100/100 [==============================] - 114s 1s/step - loss: 0.1020 - acc: 0.9705 - val_loss: 0.8032 - val_acc: 0.7400\n",
            "Epoch 27/30\n",
            "100/100 [==============================] - 114s 1s/step - loss: 0.0935 - acc: 0.9650 - val_loss: 0.7684 - val_acc: 0.7360\n",
            "Epoch 28/30\n",
            "100/100 [==============================] - 113s 1s/step - loss: 0.0784 - acc: 0.9725 - val_loss: 0.8175 - val_acc: 0.7330\n",
            "Epoch 29/30\n",
            "100/100 [==============================] - 113s 1s/step - loss: 0.0722 - acc: 0.9780 - val_loss: 0.8727 - val_acc: 0.7420\n",
            "Epoch 30/30\n",
            "100/100 [==============================] - 113s 1s/step - loss: 0.0585 - acc: 0.9815 - val_loss: 0.9144 - val_acc: 0.7220\n"
          ],
          "name": "stdout"
        }
      ]
    },
    {
      "cell_type": "code",
      "metadata": {
        "id": "BeKkPPlSTaUp",
        "colab_type": "code",
        "colab": {}
      },
      "source": [
        "model.save('cats_and_dogs_small_1.h5')"
      ],
      "execution_count": 0,
      "outputs": []
    },
    {
      "cell_type": "code",
      "metadata": {
        "id": "via0Xul7TqJQ",
        "colab_type": "code",
        "colab": {}
      },
      "source": [
        "!cp cats_and_dogs_small_1.h5 '/content/gdrive/My Drive/data/dogs-vs-cats'"
      ],
      "execution_count": 0,
      "outputs": []
    },
    {
      "cell_type": "code",
      "metadata": {
        "id": "04Snc-YrT4PZ",
        "colab_type": "code",
        "colab": {
          "base_uri": "https://localhost:8080/",
          "height": 102
        },
        "outputId": "652fb944-a410-4fe7-ff85-8a7976d28867"
      },
      "source": [
        "!ls '/content/gdrive/My Drive/data'/dogs-vs-cats -lh"
      ],
      "execution_count": 29,
      "outputs": [
        {
          "output_type": "stream",
          "text": [
            "total 841M\n",
            "-rw------- 1 root root  27M Jan  9 12:39 cats_and_dogs_small_1.h5\n",
            "-rw------- 1 root root  87K Jan  8 13:47 sampleSubmission.csv\n",
            "-rw------- 1 root root 272M Jan  8 14:13 test1.zip\n",
            "-rw------- 1 root root 544M Jan  8 14:13 train.zip\n"
          ],
          "name": "stdout"
        }
      ]
    },
    {
      "cell_type": "code",
      "metadata": {
        "id": "HUW7o0GPUjHt",
        "colab_type": "code",
        "colab": {
          "base_uri": "https://localhost:8080/",
          "height": 545
        },
        "outputId": "5ec29b6d-e707-4259-b023-d19c36b1dae4"
      },
      "source": [
        "import matplotlib.pyplot as plt\n",
        "acc = history.history['acc']\n",
        "val_acc = history.history['val_acc']\n",
        "loss = history.history['loss']\n",
        "val_loss = history.history['val_loss']\n",
        "epochs = range(1, len(acc) + 1)\n",
        "plt.plot(epochs, acc, 'bo', label='Training acc')\n",
        "plt.plot(epochs, val_acc, 'b', label='Validation acc')\n",
        "plt.title('Training and validation accuracy')\n",
        "plt.legend()\n",
        "plt.figure()\n",
        "plt.plot(epochs, loss, 'bo', label='Training loss')\n",
        "plt.plot(epochs, val_loss, 'b', label='Validation loss')\n",
        "plt.title('Training and validation loss')\n",
        "plt.legend()\n",
        "plt.show()"
      ],
      "execution_count": 30,
      "outputs": [
        {
          "output_type": "display_data",
          "data": {
            "image/png": "[encoded data removed]",
            "text/plain": [
              "<Figure size 432x288 with 1 Axes>"
            ]
          },
          "metadata": {
            "tags": []
          }
        },
        {
          "output_type": "display_data",
          "data": {
            "image/png": "[encoded data removed]",
            "text/plain": [
              "<Figure size 432x288 with 1 Axes>"
            ]
          },
          "metadata": {
            "tags": []
          }
        }
      ]
    },
    {
      "cell_type": "code",
      "metadata": {
        "id": "FJ4SELI2Vkb4",
        "colab_type": "code",
        "colab": {}
      },
      "source": [
        ""
      ],
      "execution_count": 0,
      "outputs": []
    },
    {
      "cell_type": "code",
      "metadata": {
        "id": "YRr30qfRbET9",
        "colab_type": "code",
        "colab": {}
      },
      "source": [
        "from keras.preprocessing import image\n",
        "\n",
        "datagen = ImageDataGenerator(\n",
        "rotation_range=40,\n",
        "width_shift_range=0.2,\n",
        "height_shift_range=0.2,\n",
        "shear_range=0.2,\n",
        "zoom_range=0.2,\n",
        "horizontal_flip=True,\n",
        "fill_mode='nearest')\n",
        "\n",
        "fnames = [os.path.join(train_cats_dir, fname) for fname in os.listdir(train_cats_dir)]\n",
        "\n",
        "img_path = fnames[3]\n",
        "img = image.load_img(img_path, target_size=(150, 150))\n",
        "x = image.img_to_array(img)\n",
        "x = x.reshape((1,) + x.shape)\n",
        "\n",
        "i = 0\n",
        "for batch in datagen.flow(x, batch_size=1):\n",
        "  plt.figure(i)\n",
        "  imgplot = plt.imshow(image.array_to_img(batch[0]))\n",
        "  i += 1\n",
        "  if i % 4 == 0:\n",
        "   break\n",
        "\n",
        "plt.show()"
      ],
      "execution_count": 0,
      "outputs": []
    },
    {
      "cell_type": "code",
      "metadata": {
        "id": "41fdmEhJcsgy",
        "colab_type": "code",
        "colab": {
          "base_uri": "https://localhost:8080/",
          "height": 122
        },
        "outputId": "2f167bee-d7e3-4b17-d42b-aa51b1261dfa"
      },
      "source": [
        "model = models.Sequential()\n",
        "model.add(layers.Conv2D(32, (3, 3), activation='relu',\n",
        "input_shape=(150, 150, 3)))\n",
        "model.add(layers.MaxPooling2D((2, 2)))\n",
        "model.add(layers.Conv2D(64, (3, 3), activation='relu'))\n",
        "model.add(layers.MaxPooling2D((2, 2)))\n",
        "model.add(layers.Conv2D(128, (3, 3), activation='relu'))\n",
        "model.add(layers.MaxPooling2D((2, 2)))\n",
        "model.add(layers.Conv2D(128, (3, 3), activation='relu'))\n",
        "model.add(layers.MaxPooling2D((2, 2)))\n",
        "model.add(layers.Flatten())\n",
        "model.add(layers.Dropout(0.5))\n",
        "model.add(layers.Dense(512, activation='relu'))\n",
        "model.add(layers.Dense(1, activation='sigmoid'))\n",
        "model.compile(loss='binary_crossentropy',\n",
        "optimizer=optimizers.RMSprop(lr=1e-4),\n",
        "metrics=['acc'])"
      ],
      "execution_count": 33,
      "outputs": [
        {
          "output_type": "stream",
          "text": [
            "WARNING:tensorflow:From /usr/local/lib/python3.6/dist-packages/keras/backend/tensorflow_backend.py:148: The name tf.placeholder_with_default is deprecated. Please use tf.compat.v1.placeholder_with_default instead.\n",
            "\n",
            "WARNING:tensorflow:From /usr/local/lib/python3.6/dist-packages/keras/backend/tensorflow_backend.py:3733: calling dropout (from tensorflow.python.ops.nn_ops) with keep_prob is deprecated and will be removed in a future version.\n",
            "Instructions for updating:\n",
            "Please use `rate` instead of `keep_prob`. Rate should be set to `rate = 1 - keep_prob`.\n"
          ],
          "name": "stdout"
        }
      ]
    },
    {
      "cell_type": "code",
      "metadata": {
        "id": "IkWrfgOwc5kg",
        "colab_type": "code",
        "colab": {
          "base_uri": "https://localhost:8080/",
          "height": 1000
        },
        "outputId": "036ac081-a20b-4623-9d88-3aa06777ba7c"
      },
      "source": [
        "train_datagen = ImageDataGenerator(\n",
        "rescale=1./255,\n",
        "rotation_range=40,\n",
        "width_shift_range=0.2,\n",
        "height_shift_range=0.2,\n",
        "shear_range=0.2,\n",
        "zoom_range=0.2,\n",
        "horizontal_flip=True,)\n",
        "\n",
        "test_datagen = ImageDataGenerator(rescale=1./255)\n",
        "\n",
        "train_generator = train_datagen.flow_from_directory(train_dir,target_size=(150, 150),batch_size=32,class_mode='binary')\n",
        "validation_generator = test_datagen.flow_from_directory(\n",
        "validation_dir,\n",
        "target_size=(150, 150),\n",
        "batch_size=32,\n",
        "class_mode='binary')\n",
        "\n",
        "history = model.fit_generator(\n",
        "train_generator,\n",
        "steps_per_epoch=100,\n",
        "epochs=100,\n",
        "validation_data=validation_generator,\n",
        "validation_steps=50)\n",
        "\n",
        "model.save('cats_and_dogs_small_2.h5')\n",
        "!cp cats_and_dogs_small_2.h5 '/content/gdrive/My Drive/data/dogs-vs-cats'"
      ],
      "execution_count": 46,
      "outputs": [
        {
          "output_type": "stream",
          "text": [
            "Found 2000 images belonging to 2 classes.\n",
            "Found 1000 images belonging to 2 classes.\n",
            "Epoch 1/100\n",
            "100/100 [==============================] - 185s 2s/step - loss: 0.5251 - acc: 0.7387 - val_loss: 0.5118 - val_acc: 0.7544\n",
            "Epoch 2/100\n",
            "100/100 [==============================] - 182s 2s/step - loss: 0.5227 - acc: 0.7359 - val_loss: 0.5116 - val_acc: 0.7436\n",
            "Epoch 3/100\n",
            "100/100 [==============================] - 181s 2s/step - loss: 0.5148 - acc: 0.7397 - val_loss: 0.5144 - val_acc: 0.7430\n",
            "Epoch 4/100\n",
            "100/100 [==============================] - 180s 2s/step - loss: 0.5076 - acc: 0.7503 - val_loss: 0.4863 - val_acc: 0.7648\n",
            "Epoch 5/100\n",
            "100/100 [==============================] - 178s 2s/step - loss: 0.5074 - acc: 0.7550 - val_loss: 0.4896 - val_acc: 0.7621\n",
            "Epoch 6/100\n",
            "100/100 [==============================] - 182s 2s/step - loss: 0.5032 - acc: 0.7559 - val_loss: 0.4994 - val_acc: 0.7610\n",
            "Epoch 7/100\n",
            "100/100 [==============================] - 180s 2s/step - loss: 0.5076 - acc: 0.7606 - val_loss: 0.4929 - val_acc: 0.7538\n",
            "Epoch 8/100\n",
            "100/100 [==============================] - 181s 2s/step - loss: 0.4970 - acc: 0.7559 - val_loss: 0.4876 - val_acc: 0.7577\n",
            "Epoch 9/100\n",
            "100/100 [==============================] - 179s 2s/step - loss: 0.4955 - acc: 0.7528 - val_loss: 0.4710 - val_acc: 0.7764\n",
            "Epoch 10/100\n",
            "100/100 [==============================] - 184s 2s/step - loss: 0.4908 - acc: 0.7672 - val_loss: 0.4772 - val_acc: 0.7709\n",
            "Epoch 11/100\n",
            "100/100 [==============================] - 187s 2s/step - loss: 0.4923 - acc: 0.7569 - val_loss: 0.4868 - val_acc: 0.7629\n",
            "Epoch 12/100\n",
            "100/100 [==============================] - 194s 2s/step - loss: 0.4829 - acc: 0.7631 - val_loss: 0.4611 - val_acc: 0.7722\n",
            "Epoch 13/100\n",
            "100/100 [==============================] - 186s 2s/step - loss: 0.4932 - acc: 0.7622 - val_loss: 0.5740 - val_acc: 0.7242\n",
            "Epoch 14/100\n",
            "100/100 [==============================] - 183s 2s/step - loss: 0.4768 - acc: 0.7666 - val_loss: 0.4712 - val_acc: 0.7716\n",
            "Epoch 15/100\n",
            "100/100 [==============================] - 184s 2s/step - loss: 0.4751 - acc: 0.7731 - val_loss: 0.4780 - val_acc: 0.7745\n",
            "Epoch 16/100\n",
            "100/100 [==============================] - 184s 2s/step - loss: 0.4860 - acc: 0.7719 - val_loss: 0.5054 - val_acc: 0.7577\n",
            "Epoch 17/100\n",
            "100/100 [==============================] - 181s 2s/step - loss: 0.4675 - acc: 0.7759 - val_loss: 0.4812 - val_acc: 0.7690\n",
            "Epoch 18/100\n",
            "100/100 [==============================] - 186s 2s/step - loss: 0.4578 - acc: 0.7881 - val_loss: 0.5279 - val_acc: 0.7487\n",
            "Epoch 19/100\n",
            "100/100 [==============================] - 192s 2s/step - loss: 0.4851 - acc: 0.7741 - val_loss: 0.4778 - val_acc: 0.7678\n",
            "Epoch 20/100\n",
            "100/100 [==============================] - 198s 2s/step - loss: 0.4596 - acc: 0.7903 - val_loss: 0.4402 - val_acc: 0.7957\n",
            "Epoch 21/100\n",
            "100/100 [==============================] - 198s 2s/step - loss: 0.4638 - acc: 0.7781 - val_loss: 0.4855 - val_acc: 0.7722\n",
            "Epoch 22/100\n",
            "100/100 [==============================] - 197s 2s/step - loss: 0.4673 - acc: 0.7700 - val_loss: 0.4438 - val_acc: 0.7822\n",
            "Epoch 23/100\n",
            "100/100 [==============================] - 197s 2s/step - loss: 0.4617 - acc: 0.7769 - val_loss: 0.4685 - val_acc: 0.7779\n",
            "Epoch 24/100\n",
            "100/100 [==============================] - 187s 2s/step - loss: 0.4578 - acc: 0.7903 - val_loss: 0.4976 - val_acc: 0.7513\n",
            "Epoch 25/100\n",
            "100/100 [==============================] - 181s 2s/step - loss: 0.4501 - acc: 0.7944 - val_loss: 0.4472 - val_acc: 0.8035\n",
            "Epoch 26/100\n",
            "100/100 [==============================] - 183s 2s/step - loss: 0.4560 - acc: 0.7841 - val_loss: 0.4689 - val_acc: 0.7805\n",
            "Epoch 27/100\n",
            "100/100 [==============================] - 181s 2s/step - loss: 0.4519 - acc: 0.7828 - val_loss: 0.4531 - val_acc: 0.7957\n",
            "Epoch 28/100\n",
            "100/100 [==============================] - 183s 2s/step - loss: 0.4533 - acc: 0.7881 - val_loss: 0.4585 - val_acc: 0.7798\n",
            "Epoch 29/100\n",
            "100/100 [==============================] - 182s 2s/step - loss: 0.4450 - acc: 0.7903 - val_loss: 0.4442 - val_acc: 0.7957\n",
            "Epoch 30/100\n",
            "100/100 [==============================] - 184s 2s/step - loss: 0.4366 - acc: 0.7969 - val_loss: 0.4671 - val_acc: 0.7912\n",
            "Epoch 31/100\n",
            "100/100 [==============================] - 182s 2s/step - loss: 0.4364 - acc: 0.7988 - val_loss: 0.4688 - val_acc: 0.7687\n",
            "Epoch 32/100\n",
            "100/100 [==============================] - 180s 2s/step - loss: 0.4340 - acc: 0.7972 - val_loss: 0.4446 - val_acc: 0.8028\n",
            "Epoch 33/100\n",
            "100/100 [==============================] - 182s 2s/step - loss: 0.4388 - acc: 0.7975 - val_loss: 0.4709 - val_acc: 0.7900\n",
            "Epoch 34/100\n",
            "100/100 [==============================] - 180s 2s/step - loss: 0.4436 - acc: 0.7969 - val_loss: 0.4529 - val_acc: 0.7829\n",
            "Epoch 35/100\n",
            "100/100 [==============================] - 185s 2s/step - loss: 0.4213 - acc: 0.7978 - val_loss: 0.4686 - val_acc: 0.7951\n",
            "Epoch 36/100\n",
            "100/100 [==============================] - 183s 2s/step - loss: 0.4265 - acc: 0.8059 - val_loss: 0.4331 - val_acc: 0.8054\n",
            "Epoch 37/100\n",
            "100/100 [==============================] - 181s 2s/step - loss: 0.4341 - acc: 0.7941 - val_loss: 0.4376 - val_acc: 0.7976\n",
            "Epoch 38/100\n",
            "100/100 [==============================] - 185s 2s/step - loss: 0.4254 - acc: 0.8034 - val_loss: 0.4212 - val_acc: 0.8015\n",
            "Epoch 39/100\n",
            "100/100 [==============================] - 184s 2s/step - loss: 0.4333 - acc: 0.8025 - val_loss: 0.4518 - val_acc: 0.8027\n",
            "Epoch 40/100\n",
            "100/100 [==============================] - 184s 2s/step - loss: 0.4317 - acc: 0.7978 - val_loss: 0.4475 - val_acc: 0.8119\n",
            "Epoch 41/100\n",
            "100/100 [==============================] - 183s 2s/step - loss: 0.4175 - acc: 0.8094 - val_loss: 0.4528 - val_acc: 0.7951\n",
            "Epoch 42/100\n",
            "100/100 [==============================] - 183s 2s/step - loss: 0.4028 - acc: 0.8206 - val_loss: 0.4576 - val_acc: 0.7887\n",
            "Epoch 43/100\n",
            "100/100 [==============================] - 183s 2s/step - loss: 0.4134 - acc: 0.8109 - val_loss: 0.4613 - val_acc: 0.7835\n",
            "Epoch 44/100\n",
            "100/100 [==============================] - 184s 2s/step - loss: 0.4184 - acc: 0.8081 - val_loss: 0.4300 - val_acc: 0.8071\n",
            "Epoch 45/100\n",
            "100/100 [==============================] - 183s 2s/step - loss: 0.4068 - acc: 0.8119 - val_loss: 0.4623 - val_acc: 0.7970\n",
            "Epoch 46/100\n",
            "100/100 [==============================] - 182s 2s/step - loss: 0.4081 - acc: 0.8088 - val_loss: 0.4593 - val_acc: 0.7792\n",
            "Epoch 47/100\n",
            "100/100 [==============================] - 184s 2s/step - loss: 0.3934 - acc: 0.8197 - val_loss: 0.4209 - val_acc: 0.8196\n",
            "Epoch 48/100\n",
            "100/100 [==============================] - 182s 2s/step - loss: 0.3962 - acc: 0.8269 - val_loss: 0.4103 - val_acc: 0.8260\n",
            "Epoch 49/100\n",
            "100/100 [==============================] - 186s 2s/step - loss: 0.3951 - acc: 0.8181 - val_loss: 0.4409 - val_acc: 0.8039\n",
            "Epoch 50/100\n",
            "100/100 [==============================] - 182s 2s/step - loss: 0.3849 - acc: 0.8294 - val_loss: 0.4457 - val_acc: 0.8073\n",
            "Epoch 51/100\n",
            "100/100 [==============================] - 180s 2s/step - loss: 0.3896 - acc: 0.8269 - val_loss: 0.4536 - val_acc: 0.7963\n",
            "Epoch 52/100\n",
            "100/100 [==============================] - 185s 2s/step - loss: 0.3830 - acc: 0.8256 - val_loss: 0.4626 - val_acc: 0.7970\n",
            "Epoch 53/100\n",
            "100/100 [==============================] - 190s 2s/step - loss: 0.3872 - acc: 0.8241 - val_loss: 0.4381 - val_acc: 0.8033\n",
            "Epoch 54/100\n",
            "100/100 [==============================] - 194s 2s/step - loss: 0.3884 - acc: 0.8247 - val_loss: 0.5111 - val_acc: 0.7378\n",
            "Epoch 55/100\n",
            "100/100 [==============================] - 196s 2s/step - loss: 0.3797 - acc: 0.8353 - val_loss: 0.4342 - val_acc: 0.8166\n",
            "Epoch 56/100\n",
            "100/100 [==============================] - 198s 2s/step - loss: 0.3839 - acc: 0.8209 - val_loss: 0.4083 - val_acc: 0.8228\n",
            "Epoch 57/100\n",
            "100/100 [==============================] - 196s 2s/step - loss: 0.3807 - acc: 0.8225 - val_loss: 0.4072 - val_acc: 0.8183\n",
            "Epoch 58/100\n",
            "100/100 [==============================] - 190s 2s/step - loss: 0.3793 - acc: 0.8312 - val_loss: 0.4821 - val_acc: 0.7931\n",
            "Epoch 59/100\n",
            "100/100 [==============================] - 189s 2s/step - loss: 0.3630 - acc: 0.8366 - val_loss: 0.5189 - val_acc: 0.7829\n",
            "Epoch 60/100\n",
            "100/100 [==============================] - 190s 2s/step - loss: 0.3720 - acc: 0.8359 - val_loss: 0.4327 - val_acc: 0.8052\n",
            "Epoch 61/100\n",
            "100/100 [==============================] - 191s 2s/step - loss: 0.3582 - acc: 0.8416 - val_loss: 0.4713 - val_acc: 0.7887\n",
            "Epoch 62/100\n",
            "100/100 [==============================] - 197s 2s/step - loss: 0.3673 - acc: 0.8328 - val_loss: 0.4039 - val_acc: 0.8223\n",
            "Epoch 63/100\n",
            "100/100 [==============================] - 197s 2s/step - loss: 0.3794 - acc: 0.8253 - val_loss: 0.4429 - val_acc: 0.7977\n",
            "Epoch 64/100\n",
            "100/100 [==============================] - 195s 2s/step - loss: 0.3610 - acc: 0.8412 - val_loss: 0.4073 - val_acc: 0.8396\n",
            "Epoch 65/100\n",
            "100/100 [==============================] - 185s 2s/step - loss: 0.3723 - acc: 0.8334 - val_loss: 0.3892 - val_acc: 0.8325\n",
            "Epoch 66/100\n",
            "100/100 [==============================] - 182s 2s/step - loss: 0.3628 - acc: 0.8394 - val_loss: 0.5083 - val_acc: 0.7719\n",
            "Epoch 67/100\n",
            "100/100 [==============================] - 193s 2s/step - loss: 0.3612 - acc: 0.8437 - val_loss: 0.4664 - val_acc: 0.7893\n",
            "Epoch 68/100\n",
            "100/100 [==============================] - 191s 2s/step - loss: 0.3645 - acc: 0.8341 - val_loss: 0.3805 - val_acc: 0.8402\n",
            "Epoch 69/100\n",
            "100/100 [==============================] - 197s 2s/step - loss: 0.3607 - acc: 0.8334 - val_loss: 0.4141 - val_acc: 0.8192\n",
            "Epoch 70/100\n",
            "100/100 [==============================] - 195s 2s/step - loss: 0.3600 - acc: 0.8356 - val_loss: 0.5177 - val_acc: 0.7906\n",
            "Epoch 71/100\n",
            "100/100 [==============================] - 197s 2s/step - loss: 0.3535 - acc: 0.8497 - val_loss: 0.4556 - val_acc: 0.8147\n",
            "Epoch 72/100\n",
            "100/100 [==============================] - 187s 2s/step - loss: 0.3530 - acc: 0.8422 - val_loss: 0.4596 - val_acc: 0.7925\n",
            "Epoch 73/100\n",
            "100/100 [==============================] - 181s 2s/step - loss: 0.3607 - acc: 0.8419 - val_loss: 0.4019 - val_acc: 0.8286\n",
            "Epoch 74/100\n",
            "100/100 [==============================] - 185s 2s/step - loss: 0.3644 - acc: 0.8378 - val_loss: 0.4161 - val_acc: 0.8325\n",
            "Epoch 75/100\n",
            "100/100 [==============================] - 193s 2s/step - loss: 0.3366 - acc: 0.8509 - val_loss: 0.4764 - val_acc: 0.7790\n",
            "Epoch 76/100\n",
            "100/100 [==============================] - 200s 2s/step - loss: 0.3494 - acc: 0.8431 - val_loss: 0.5043 - val_acc: 0.7716\n",
            "Epoch 77/100\n",
            "100/100 [==============================] - 197s 2s/step - loss: 0.3350 - acc: 0.8528 - val_loss: 0.4745 - val_acc: 0.7867\n",
            "Epoch 78/100\n",
            "100/100 [==============================] - 198s 2s/step - loss: 0.3313 - acc: 0.8422 - val_loss: 0.5116 - val_acc: 0.7754\n",
            "Epoch 79/100\n",
            "100/100 [==============================] - 195s 2s/step - loss: 0.3323 - acc: 0.8538 - val_loss: 0.3823 - val_acc: 0.8305\n",
            "Epoch 80/100\n",
            "100/100 [==============================] - 191s 2s/step - loss: 0.3415 - acc: 0.8475 - val_loss: 0.3853 - val_acc: 0.8344\n",
            "Epoch 81/100\n",
            "100/100 [==============================] - 200s 2s/step - loss: 0.3399 - acc: 0.8509 - val_loss: 0.4244 - val_acc: 0.8185\n",
            "Epoch 82/100\n",
            "100/100 [==============================] - 196s 2s/step - loss: 0.3360 - acc: 0.8519 - val_loss: 0.4118 - val_acc: 0.8305\n",
            "Epoch 83/100\n",
            "100/100 [==============================] - 195s 2s/step - loss: 0.3551 - acc: 0.8416 - val_loss: 0.4138 - val_acc: 0.8179\n",
            "Epoch 84/100\n",
            "100/100 [==============================] - 188s 2s/step - loss: 0.3343 - acc: 0.8566 - val_loss: 0.4136 - val_acc: 0.8125\n",
            "Epoch 85/100\n",
            "100/100 [==============================] - 186s 2s/step - loss: 0.3285 - acc: 0.8513 - val_loss: 0.4469 - val_acc: 0.8198\n",
            "Epoch 86/100\n",
            "100/100 [==============================] - 184s 2s/step - loss: 0.3351 - acc: 0.8544 - val_loss: 0.4355 - val_acc: 0.8157\n",
            "Epoch 87/100\n",
            "100/100 [==============================] - 181s 2s/step - loss: 0.3302 - acc: 0.8575 - val_loss: 0.4622 - val_acc: 0.8211\n",
            "Epoch 88/100\n",
            "100/100 [==============================] - 182s 2s/step - loss: 0.3192 - acc: 0.8584 - val_loss: 0.6273 - val_acc: 0.7642\n",
            "Epoch 89/100\n",
            "100/100 [==============================] - 182s 2s/step - loss: 0.3207 - acc: 0.8534 - val_loss: 0.4235 - val_acc: 0.8254\n",
            "Epoch 90/100\n",
            "100/100 [==============================] - 184s 2s/step - loss: 0.3330 - acc: 0.8641 - val_loss: 0.4271 - val_acc: 0.8103\n",
            "Epoch 91/100\n",
            "100/100 [==============================] - 184s 2s/step - loss: 0.3225 - acc: 0.8553 - val_loss: 0.3891 - val_acc: 0.8363\n",
            "Epoch 92/100\n",
            "100/100 [==============================] - 196s 2s/step - loss: 0.3354 - acc: 0.8538 - val_loss: 0.4436 - val_acc: 0.8185\n",
            "Epoch 93/100\n",
            "100/100 [==============================] - 198s 2s/step - loss: 0.3164 - acc: 0.8675 - val_loss: 0.5037 - val_acc: 0.8003\n",
            "Epoch 94/100\n",
            "100/100 [==============================] - 200s 2s/step - loss: 0.3147 - acc: 0.8641 - val_loss: 0.7348 - val_acc: 0.7513\n",
            "Epoch 95/100\n",
            "100/100 [==============================] - 199s 2s/step - loss: 0.3154 - acc: 0.8653 - val_loss: 0.4357 - val_acc: 0.8177\n",
            "Epoch 96/100\n",
            "100/100 [==============================] - 198s 2s/step - loss: 0.3190 - acc: 0.8609 - val_loss: 0.4615 - val_acc: 0.8035\n",
            "Epoch 97/100\n",
            "100/100 [==============================] - 199s 2s/step - loss: 0.3169 - acc: 0.8553 - val_loss: 0.4346 - val_acc: 0.8293\n",
            "Epoch 98/100\n",
            "100/100 [==============================] - 202s 2s/step - loss: 0.3226 - acc: 0.8587 - val_loss: 0.4942 - val_acc: 0.7925\n",
            "Epoch 99/100\n",
            "100/100 [==============================] - 199s 2s/step - loss: 0.3088 - acc: 0.8728 - val_loss: 0.4343 - val_acc: 0.8160\n",
            "Epoch 100/100\n",
            "100/100 [==============================] - 197s 2s/step - loss: 0.3174 - acc: 0.8597 - val_loss: 0.4765 - val_acc: 0.8222\n"
          ],
          "name": "stdout"
        }
      ]
    },
    {
      "cell_type": "code",
      "metadata": {
        "id": "B6NoVtv0RIoV",
        "colab_type": "code",
        "colab": {
          "base_uri": "https://localhost:8080/",
          "height": 34
        },
        "outputId": "765bfe42-8ea8-467d-a0b1-40597ccf924a"
      },
      "source": [
        "!pwd"
      ],
      "execution_count": 5,
      "outputs": [
        {
          "output_type": "stream",
          "text": [
            "/content\n"
          ],
          "name": "stdout"
        }
      ]
    },
    {
      "cell_type": "markdown",
      "metadata": {
        "id": "zzuRyJVdQ9Ah",
        "colab_type": "text"
      },
      "source": [
        "Saving dogs-cats small to drive"
      ]
    },
    {
      "cell_type": "code",
      "metadata": {
        "id": "S80Z5LepssaE",
        "colab_type": "code",
        "colab": {
          "base_uri": "https://localhost:8080/",
          "height": 34
        },
        "outputId": "0cddfbc3-2f06-41fa-e1be-61a02f71f1a1"
      },
      "source": [
        "base_dir"
      ],
      "execution_count": 36,
      "outputs": [
        {
          "output_type": "execute_result",
          "data": {
            "text/plain": [
              "'data/dogs-vs-cats-small'"
            ]
          },
          "metadata": {
            "tags": []
          },
          "execution_count": 36
        }
      ]
    },
    {
      "cell_type": "code",
      "metadata": {
        "id": "PVOmus8UpUI0",
        "colab_type": "code",
        "colab": {
          "base_uri": "https://localhost:8080/",
          "height": 34
        },
        "outputId": "432b7c28-12c7-4289-e70e-bc8146d2401e"
      },
      "source": [
        "!ls 'data/dogs-vs-cats-small'"
      ],
      "execution_count": 38,
      "outputs": [
        {
          "output_type": "stream",
          "text": [
            "test  train  validation\n"
          ],
          "name": "stdout"
        }
      ]
    },
    {
      "cell_type": "code",
      "metadata": {
        "id": "5QRnhpJ6tY6c",
        "colab_type": "code",
        "colab": {}
      },
      "source": [
        "!zip -r dogs-vs-cats-small.zip data/dogs-vs-cats-small"
      ],
      "execution_count": 0,
      "outputs": []
    },
    {
      "cell_type": "code",
      "metadata": {
        "id": "HCwNCyhmuG9R",
        "colab_type": "code",
        "colab": {
          "base_uri": "https://localhost:8080/",
          "height": 119
        },
        "outputId": "0af895ac-46ef-43cc-8416-1ef8c65a1445"
      },
      "source": [
        "ls -lh"
      ],
      "execution_count": 44,
      "outputs": [
        {
          "output_type": "stream",
          "text": [
            "total 114M\n",
            "-rw-r--r-- 1 root root  27M Jan  9 12:35 cats_and_dogs_small_1.h5\n",
            "drwxr-xr-x 4 root root 4.0K Jan  9 10:57 \u001b[0m\u001b[01;34mdata\u001b[0m/\n",
            "-rw-r--r-- 1 root root  87M Jan  9 14:34 dogs-vs-cats-small.zip\n",
            "drwx------ 4 root root 4.0K Jan  9 10:56 \u001b[01;34mgdrive\u001b[0m/\n",
            "drwxr-xr-x 1 root root 4.0K Dec 18 16:52 \u001b[01;34msample_data\u001b[0m/\n"
          ],
          "name": "stdout"
        }
      ]
    },
    {
      "cell_type": "code",
      "metadata": {
        "id": "rWGKCU_AupH6",
        "colab_type": "code",
        "colab": {}
      },
      "source": [
        "!cp dogs-vs-cats-small.zip '/content/gdrive/My Drive/data/dogs-vs-cats'"
      ],
      "execution_count": 0,
      "outputs": []
    }
  ]
}