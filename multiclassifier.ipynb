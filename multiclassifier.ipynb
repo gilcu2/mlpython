{
  "nbformat": 4,
  "nbformat_minor": 0,
  "metadata": {
    "colab": {
      "name": "multiclassifier.ipynb",
      "provenance": [],
      "include_colab_link": true
    },
    "kernelspec": {
      "name": "python3",
      "display_name": "Python 3"
    }
  },
  "cells": [
    {
      "cell_type": "markdown",
      "metadata": {
        "id": "view-in-github",
        "colab_type": "text"
      },
      "source": [
        "<a href=\"https://colab.research.google.com/github/gilcu2/mlpython/blob/master/multiclassifier.ipynb\" target=\"_parent\"><img src=\"https://colab.research.google.com/assets/colab-badge.svg\" alt=\"Open In Colab\"/></a>"
      ]
    },
    {
      "cell_type": "code",
      "metadata": {
        "id": "Nh20aMrc82N5",
        "colab_type": "code",
        "colab": {
          "base_uri": "https://localhost:8080/",
          "height": 116
        },
        "outputId": "d932a5dc-e988-4814-83b6-0098d7fcfe18"
      },
      "source": [
        "from keras.datasets import reuters\n",
        "(train_data, train_labels), (test_data, test_labels) = reuters.load_data(num_words=10000)"
      ],
      "execution_count": 1,
      "outputs": [
        {
          "output_type": "stream",
          "text": [
            "Using TensorFlow backend.\n"
          ],
          "name": "stderr"
        },
        {
          "output_type": "display_data",
          "data": {
            "text/html": [
              "<p style=\"color: red;\">\n",
              "The default version of TensorFlow in Colab will soon switch to TensorFlow 2.x.<br>\n",
              "We recommend you <a href=\"https://www.tensorflow.org/guide/migrate\" target=\"_blank\">upgrade</a> now \n",
              "or ensure your notebook will continue to use TensorFlow 1.x via the <code>%tensorflow_version 1.x</code> magic:\n",
              "<a href=\"https://colab.research.google.com/notebooks/tensorflow_version.ipynb\" target=\"_blank\">more info</a>.</p>\n"
            ],
            "text/plain": [
              "<IPython.core.display.HTML object>"
            ]
          },
          "metadata": {
            "tags": []
          }
        },
        {
          "output_type": "stream",
          "text": [
            "Downloading data from https://s3.amazonaws.com/text-datasets/reuters.npz\n",
            "2113536/2110848 [==============================] - 0s 0us/step\n"
          ],
          "name": "stdout"
        }
      ]
    },
    {
      "cell_type": "code",
      "metadata": {
        "id": "NMbxyQhg-WWK",
        "colab_type": "code",
        "colab": {}
      },
      "source": [
        "import numpy as np\n",
        "def vectorize_sequences(sequences, dimension=10000):\n",
        "  results = np.zeros((len(sequences), dimension))\n",
        "  for i, sequence in enumerate(sequences):\n",
        "    results[i, sequence] = 1.\n",
        "  return results"
      ],
      "execution_count": 0,
      "outputs": []
    },
    {
      "cell_type": "code",
      "metadata": {
        "id": "AYmHGvC7-fRK",
        "colab_type": "code",
        "colab": {}
      },
      "source": [
        "x_train = vectorize_sequences(train_data)\n",
        "x_test = vectorize_sequences(test_data)"
      ],
      "execution_count": 0,
      "outputs": []
    },
    {
      "cell_type": "code",
      "metadata": {
        "id": "Y3d3hWe0-0-W",
        "colab_type": "code",
        "colab": {}
      },
      "source": [
        "def to_one_hot(labels, dimension=46):\n",
        "  results = np.zeros((len(labels), dimension))\n",
        "  for i, label in enumerate(labels):\n",
        "    results[i, label] = 1.\n",
        "  return results"
      ],
      "execution_count": 0,
      "outputs": []
    },
    {
      "cell_type": "code",
      "metadata": {
        "id": "oyIBPRyI_AFg",
        "colab_type": "code",
        "colab": {}
      },
      "source": [
        "one_hot_train_labels = to_one_hot(train_labels)\n",
        "one_hot_test_labels = to_one_hot(test_labels)"
      ],
      "execution_count": 0,
      "outputs": []
    },
    {
      "cell_type": "code",
      "metadata": {
        "id": "tOkGl5qL_dzj",
        "colab_type": "code",
        "colab": {}
      },
      "source": [
        "from keras import models\n",
        "from keras import layers\n",
        "\n",
        "model = models.Sequential()\n",
        "model.add(layers.Dense(64, activation='relu', input_shape=(10000,)))\n",
        "model.add(layers.Dense(64, activation='relu'))\n",
        "model.add(layers.Dense(46, activation='softmax'))"
      ],
      "execution_count": 0,
      "outputs": []
    },
    {
      "cell_type": "code",
      "metadata": {
        "id": "EnaxTdyv_x7J",
        "colab_type": "code",
        "colab": {}
      },
      "source": [
        "model.compile(optimizer='rmsprop',loss='categorical_crossentropy',metrics=['accuracy'])"
      ],
      "execution_count": 0,
      "outputs": []
    },
    {
      "cell_type": "code",
      "metadata": {
        "id": "yY8qg_8x_8rC",
        "colab_type": "code",
        "colab": {}
      },
      "source": [
        "x_val = x_train[:1000]\n",
        "partial_x_train = x_train[1000:]\n",
        "y_val = one_hot_train_labels[:1000]\n",
        "partial_y_train = one_hot_train_labels[1000:]"
      ],
      "execution_count": 0,
      "outputs": []
    },
    {
      "cell_type": "code",
      "metadata": {
        "id": "Wol8Rg5TACXO",
        "colab_type": "code",
        "colab": {
          "base_uri": "https://localhost:8080/",
          "height": 1000
        },
        "outputId": "0cbfae84-3383-4d24-cdcc-6b3081bc3ee6"
      },
      "source": [
        "history = model.fit(partial_x_train,partial_y_train,epochs=20,batch_size=512,validation_data=(x_val, y_val))"
      ],
      "execution_count": 12,
      "outputs": [
        {
          "output_type": "stream",
          "text": [
            "WARNING:tensorflow:From /usr/local/lib/python3.6/dist-packages/tensorflow_core/python/ops/math_grad.py:1424: where (from tensorflow.python.ops.array_ops) is deprecated and will be removed in a future version.\n",
            "Instructions for updating:\n",
            "Use tf.where in 2.0, which has the same broadcast rule as np.where\n",
            "WARNING:tensorflow:From /usr/local/lib/python3.6/dist-packages/keras/backend/tensorflow_backend.py:1033: The name tf.assign_add is deprecated. Please use tf.compat.v1.assign_add instead.\n",
            "\n",
            "WARNING:tensorflow:From /usr/local/lib/python3.6/dist-packages/keras/backend/tensorflow_backend.py:1020: The name tf.assign is deprecated. Please use tf.compat.v1.assign instead.\n",
            "\n",
            "WARNING:tensorflow:From /usr/local/lib/python3.6/dist-packages/keras/backend/tensorflow_backend.py:3005: The name tf.Session is deprecated. Please use tf.compat.v1.Session instead.\n",
            "\n",
            "Train on 7982 samples, validate on 1000 samples\n",
            "Epoch 1/20\n",
            "WARNING:tensorflow:From /usr/local/lib/python3.6/dist-packages/keras/backend/tensorflow_backend.py:190: The name tf.get_default_session is deprecated. Please use tf.compat.v1.get_default_session instead.\n",
            "\n",
            "WARNING:tensorflow:From /usr/local/lib/python3.6/dist-packages/keras/backend/tensorflow_backend.py:197: The name tf.ConfigProto is deprecated. Please use tf.compat.v1.ConfigProto instead.\n",
            "\n",
            "WARNING:tensorflow:From /usr/local/lib/python3.6/dist-packages/keras/backend/tensorflow_backend.py:207: The name tf.global_variables is deprecated. Please use tf.compat.v1.global_variables instead.\n",
            "\n",
            "WARNING:tensorflow:From /usr/local/lib/python3.6/dist-packages/keras/backend/tensorflow_backend.py:216: The name tf.is_variable_initialized is deprecated. Please use tf.compat.v1.is_variable_initialized instead.\n",
            "\n",
            "WARNING:tensorflow:From /usr/local/lib/python3.6/dist-packages/keras/backend/tensorflow_backend.py:223: The name tf.variables_initializer is deprecated. Please use tf.compat.v1.variables_initializer instead.\n",
            "\n",
            "7982/7982 [==============================] - 2s 207us/step - loss: 2.5537 - acc: 0.4920 - val_loss: 1.7077 - val_acc: 0.6390\n",
            "Epoch 2/20\n",
            "7982/7982 [==============================] - 1s 123us/step - loss: 1.4048 - acc: 0.7171 - val_loss: 1.3030 - val_acc: 0.7250\n",
            "Epoch 3/20\n",
            "7982/7982 [==============================] - 1s 123us/step - loss: 1.0584 - acc: 0.7848 - val_loss: 1.1720 - val_acc: 0.7440\n",
            "Epoch 4/20\n",
            "7982/7982 [==============================] - 1s 125us/step - loss: 0.8364 - acc: 0.8272 - val_loss: 1.0467 - val_acc: 0.7770\n",
            "Epoch 5/20\n",
            "7982/7982 [==============================] - 1s 124us/step - loss: 0.6682 - acc: 0.8621 - val_loss: 0.9796 - val_acc: 0.8030\n",
            "Epoch 6/20\n",
            "7982/7982 [==============================] - 1s 127us/step - loss: 0.5386 - acc: 0.8875 - val_loss: 0.9289 - val_acc: 0.8140\n",
            "Epoch 7/20\n",
            "7982/7982 [==============================] - 1s 122us/step - loss: 0.4292 - acc: 0.9100 - val_loss: 0.9238 - val_acc: 0.8130\n",
            "Epoch 8/20\n",
            "7982/7982 [==============================] - 1s 122us/step - loss: 0.3536 - acc: 0.9253 - val_loss: 0.8910 - val_acc: 0.8180\n",
            "Epoch 9/20\n",
            "7982/7982 [==============================] - 1s 124us/step - loss: 0.2896 - acc: 0.9356 - val_loss: 0.9026 - val_acc: 0.8080\n",
            "Epoch 10/20\n",
            "7982/7982 [==============================] - 1s 123us/step - loss: 0.2486 - acc: 0.9446 - val_loss: 0.9049 - val_acc: 0.8180\n",
            "Epoch 11/20\n",
            "7982/7982 [==============================] - 1s 122us/step - loss: 0.2120 - acc: 0.9479 - val_loss: 0.9208 - val_acc: 0.8130\n",
            "Epoch 12/20\n",
            "7982/7982 [==============================] - 1s 122us/step - loss: 0.1872 - acc: 0.9511 - val_loss: 1.0083 - val_acc: 0.7910\n",
            "Epoch 13/20\n",
            "7982/7982 [==============================] - 1s 122us/step - loss: 0.1706 - acc: 0.9533 - val_loss: 0.9390 - val_acc: 0.8160\n",
            "Epoch 14/20\n",
            "7982/7982 [==============================] - 1s 122us/step - loss: 0.1529 - acc: 0.9548 - val_loss: 0.9408 - val_acc: 0.8170\n",
            "Epoch 15/20\n",
            "7982/7982 [==============================] - 1s 121us/step - loss: 0.1436 - acc: 0.9557 - val_loss: 1.0162 - val_acc: 0.8130\n",
            "Epoch 16/20\n",
            "7982/7982 [==============================] - 1s 123us/step - loss: 0.1341 - acc: 0.9563 - val_loss: 1.0202 - val_acc: 0.7980\n",
            "Epoch 17/20\n",
            "7982/7982 [==============================] - 1s 126us/step - loss: 0.1319 - acc: 0.9555 - val_loss: 1.0405 - val_acc: 0.8000\n",
            "Epoch 18/20\n",
            "7982/7982 [==============================] - 1s 122us/step - loss: 0.1266 - acc: 0.9549 - val_loss: 0.9922 - val_acc: 0.8130\n",
            "Epoch 19/20\n",
            "7982/7982 [==============================] - 1s 123us/step - loss: 0.1194 - acc: 0.9587 - val_loss: 1.0345 - val_acc: 0.8070\n",
            "Epoch 20/20\n",
            "7982/7982 [==============================] - 1s 123us/step - loss: 0.1174 - acc: 0.9574 - val_loss: 1.0972 - val_acc: 0.7960\n"
          ],
          "name": "stdout"
        }
      ]
    },
    {
      "cell_type": "code",
      "metadata": {
        "id": "qNFp_hcvAlN-",
        "colab_type": "code",
        "colab": {
          "base_uri": "https://localhost:8080/",
          "height": 295
        },
        "outputId": "779aedd1-fd25-436c-fb0c-942d55acafb7"
      },
      "source": [
        "import matplotlib.pyplot as plt\n",
        "loss = history.history['loss']\n",
        "val_loss = history.history['val_loss']\n",
        "epochs = range(1, len(loss) + 1)\n",
        "plt.plot(epochs, loss, 'bo', label='Training loss')\n",
        "plt.plot(epochs, val_loss, 'b', label='Validation loss')\n",
        "plt.title('Training and validation loss')\n",
        "plt.xlabel('Epochs')\n",
        "plt.ylabel('Loss')\n",
        "plt.legend()\n",
        "plt.show()"
      ],
      "execution_count": 13,
      "outputs": [
        {
          "output_type": "display_data",
          "data": {
            "image/png": "[encoded data removed]",
            "text/plain": [
              "<Figure size 432x288 with 1 Axes>"
            ]
          },
          "metadata": {
            "tags": []
          }
        }
      ]
    },
    {
      "cell_type": "code",
      "metadata": {
        "id": "8lDQ886NAz_b",
        "colab_type": "code",
        "colab": {
          "base_uri": "https://localhost:8080/",
          "height": 295
        },
        "outputId": "002d77ff-9ca6-42c9-cd64-324c901974f4"
      },
      "source": [
        "plt.clf()\n",
        "acc = history.history['acc']\n",
        "val_acc = history.history['val_acc']\n",
        "plt.plot(epochs, acc, 'bo', label='Training acc')\n",
        "plt.plot(epochs, val_acc, 'b', label='Validation acc')\n",
        "plt.title('Training and validation accuracy')\n",
        "plt.xlabel('Epochs')\n",
        "plt.ylabel('Loss')\n",
        "plt.legend()\n",
        "plt.show()"
      ],
      "execution_count": 14,
      "outputs": [
        {
          "output_type": "display_data",
          "data": {
            "image/png": "[encoded data removed]",
            "text/plain": [
              "<Figure size 432x288 with 1 Axes>"
            ]
          },
          "metadata": {
            "tags": []
          }
        }
      ]
    },
    {
      "cell_type": "code",
      "metadata": {
        "id": "4y1BPt6iBu65",
        "colab_type": "code",
        "colab": {
          "base_uri": "https://localhost:8080/",
          "height": 381
        },
        "outputId": "77363a4e-2edf-4b5e-ee8a-8dd5b5762e2d"
      },
      "source": [
        "model = models.Sequential()\n",
        "model.add(layers.Dense(64, activation='relu', input_shape=(10000,)))\n",
        "model.add(layers.Dense(64, activation='relu'))\n",
        "model.add(layers.Dense(46, activation='softmax'))\n",
        "model.compile(optimizer='rmsprop',loss='categorical_crossentropy',metrics=['accuracy'])\n",
        "model.fit(partial_x_train,partial_y_train,epochs=9,batch_size=512,validation_data=(x_val, y_val))\n",
        "results = model.evaluate(x_test, one_hot_test_labels)\n",
        "results"
      ],
      "execution_count": 16,
      "outputs": [
        {
          "output_type": "stream",
          "text": [
            "Train on 7982 samples, validate on 1000 samples\n",
            "Epoch 1/9\n",
            "7982/7982 [==============================] - 1s 159us/step - loss: 2.6360 - acc: 0.5293 - val_loss: 1.7241 - val_acc: 0.6490\n",
            "Epoch 2/9\n",
            "7982/7982 [==============================] - 1s 131us/step - loss: 1.4117 - acc: 0.7091 - val_loss: 1.3016 - val_acc: 0.7170\n",
            "Epoch 3/9\n",
            "7982/7982 [==============================] - 1s 124us/step - loss: 1.0480 - acc: 0.7831 - val_loss: 1.1368 - val_acc: 0.7520\n",
            "Epoch 4/9\n",
            "7982/7982 [==============================] - 1s 126us/step - loss: 0.8283 - acc: 0.8240 - val_loss: 1.0541 - val_acc: 0.7680\n",
            "Epoch 5/9\n",
            "7982/7982 [==============================] - 1s 126us/step - loss: 0.6695 - acc: 0.8559 - val_loss: 0.9687 - val_acc: 0.7960\n",
            "Epoch 6/9\n",
            "7982/7982 [==============================] - 1s 126us/step - loss: 0.5365 - acc: 0.8857 - val_loss: 0.9425 - val_acc: 0.8060\n",
            "Epoch 7/9\n",
            "7982/7982 [==============================] - 1s 127us/step - loss: 0.4382 - acc: 0.9080 - val_loss: 0.9105 - val_acc: 0.8080\n",
            "Epoch 8/9\n",
            "7982/7982 [==============================] - 1s 126us/step - loss: 0.3543 - acc: 0.9266 - val_loss: 0.9018 - val_acc: 0.8130\n",
            "Epoch 9/9\n",
            "7982/7982 [==============================] - 1s 127us/step - loss: 0.2948 - acc: 0.9342 - val_loss: 0.8861 - val_acc: 0.8180\n",
            "2246/2246 [==============================] - 0s 90us/step\n"
          ],
          "name": "stdout"
        },
        {
          "output_type": "execute_result",
          "data": {
            "text/plain": [
              "[0.9767838322681077, 0.7974176313446126]"
            ]
          },
          "metadata": {
            "tags": []
          },
          "execution_count": 16
        }
      ]
    }
  ]
}